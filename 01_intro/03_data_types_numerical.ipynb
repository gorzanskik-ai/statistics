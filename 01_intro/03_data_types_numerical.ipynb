{
  "nbformat": 4,
  "nbformat_minor": 0,
  "metadata": {
    "colab": {
      "provenance": [],
      "authorship_tag": "ABX9TyMLGbK2LEeMeL4WiACZNqEb",
      "include_colab_link": true
    },
    "kernelspec": {
      "name": "python3",
      "display_name": "Python 3"
    },
    "language_info": {
      "name": "python"
    }
  },
  "cells": [
    {
      "cell_type": "markdown",
      "metadata": {
        "id": "view-in-github",
        "colab_type": "text"
      },
      "source": [
        "<a href=\"https://colab.research.google.com/github/gorzanskik-ai/statistics/blob/main/03_data_types_numerical.ipynb\" target=\"_parent\"><img src=\"https://colab.research.google.com/assets/colab-badge.svg\" alt=\"Open In Colab\"/></a>"
      ]
    },
    {
      "cell_type": "code",
      "source": [
        "from google.colab import drive\n",
        "drive.mount('/content/drive')\n",
        "path = \"/content/drive/MyDrive/Statistics/data/yellow_tripdata_2021-05.parquet\""
      ],
      "metadata": {
        "colab": {
          "base_uri": "https://localhost:8080/"
        },
        "id": "toHPOniYY0T_",
        "outputId": "ad79f2cb-306a-431a-f3b8-f6581a761cbc"
      },
      "execution_count": 2,
      "outputs": [
        {
          "output_type": "stream",
          "name": "stdout",
          "text": [
            "Mounted at /content/drive\n"
          ]
        }
      ]
    },
    {
      "cell_type": "code",
      "execution_count": 1,
      "metadata": {
        "id": "QhsJ4UaGYp9m"
      },
      "outputs": [],
      "source": [
        "import pandas as pd\n",
        "import numpy as np\n",
        "import matplotlib.pyplot as plt"
      ]
    },
    {
      "cell_type": "code",
      "source": [
        "taxi = pd.read_parquet(path, engine='auto', columns=['trip_distance'], storage_options=None, use_nullable_dtypes=False)\n",
        "taxi.query('trip_distance > 0 and trip_distance <= 50', inplace=True)"
      ],
      "metadata": {
        "id": "JGhq05ONYxaf"
      },
      "execution_count": 3,
      "outputs": []
    },
    {
      "cell_type": "code",
      "source": [
        "bins = 50\n",
        "interval_width = (taxi['trip_distance'].max() - taxi['trip_distance'].min()) / bins\n",
        "print(interval_width)"
      ],
      "metadata": {
        "colab": {
          "base_uri": "https://localhost:8080/"
        },
        "id": "peooj_cIZJtg",
        "outputId": "7456ca0c-b459-4ea4-e552-db7a0a1b5d78"
      },
      "execution_count": 4,
      "outputs": [
        {
          "output_type": "stream",
          "name": "stdout",
          "text": [
            "0.9992\n"
          ]
        }
      ]
    },
    {
      "cell_type": "code",
      "source": [
        "abs_frequency, intervals = np.histogram(taxi['trip_distance'], bins=50)\n",
        "print(abs_frequency, intervals) #liczby przedziałów na interwał, punkty podziału"
      ],
      "metadata": {
        "colab": {
          "base_uri": "https://localhost:8080/"
        },
        "id": "hXVcaQXQc5Y5",
        "outputId": "c1cc168f-830b-4e40-b2ec-22ba4c42703b"
      },
      "execution_count": 5,
      "outputs": [
        {
          "output_type": "stream",
          "name": "stdout",
          "text": [
            "[539394 832183 428010 213627 111637  64987  44677  34458  30569  27841\n",
            "  22647  16226  11451   8879   7852   7860   9778  15401  15655  10533\n",
            "   6926   4223   2270   1266    843    737    691    522    381    268\n",
            "    210    151    153    107    125    117    112     87     91     63\n",
            "     66     59     45     37     43     38     30     33     33     30] [1.00000e-02 1.00920e+00 2.00840e+00 3.00760e+00 4.00680e+00 5.00600e+00\n",
            " 6.00520e+00 7.00440e+00 8.00360e+00 9.00280e+00 1.00020e+01 1.10012e+01\n",
            " 1.20004e+01 1.29996e+01 1.39988e+01 1.49980e+01 1.59972e+01 1.69964e+01\n",
            " 1.79956e+01 1.89948e+01 1.99940e+01 2.09932e+01 2.19924e+01 2.29916e+01\n",
            " 2.39908e+01 2.49900e+01 2.59892e+01 2.69884e+01 2.79876e+01 2.89868e+01\n",
            " 2.99860e+01 3.09852e+01 3.19844e+01 3.29836e+01 3.39828e+01 3.49820e+01\n",
            " 3.59812e+01 3.69804e+01 3.79796e+01 3.89788e+01 3.99780e+01 4.09772e+01\n",
            " 4.19764e+01 4.29756e+01 4.39748e+01 4.49740e+01 4.59732e+01 4.69724e+01\n",
            " 4.79716e+01 4.89708e+01 4.99700e+01]\n"
          ]
        }
      ]
    },
    {
      "cell_type": "code",
      "source": [
        "taxi['trip_distance'].plot.hist(bins=50)"
      ],
      "metadata": {
        "colab": {
          "base_uri": "https://localhost:8080/",
          "height": 447
        },
        "id": "283oTgkndOxK",
        "outputId": "bae88352-3cd2-4246-a4fd-0164b7877689"
      },
      "execution_count": 7,
      "outputs": [
        {
          "output_type": "execute_result",
          "data": {
            "text/plain": [
              "<Axes: ylabel='Frequency'>"
            ]
          },
          "metadata": {},
          "execution_count": 7
        },
        {
          "output_type": "display_data",
          "data": {
            "text/plain": [
              "<Figure size 640x480 with 1 Axes>"
            ],
            "image/png": "[encoded data removed]"
          },
          "metadata": {}
        }
      ]
    },
    {
      "cell_type": "code",
      "source": [
        "interval_range = pd.interval_range(start=0, freq=1, end=50, closed='right')\n",
        "# assign each row to a bin\n",
        "taxi['bin'] = pd.cut(taxi['trip_distance'], bins=interval_range)\n",
        "print(taxi.head())\n",
        "# calculate counts for each bin\n",
        "freq_table = pd.crosstab(index=taxi[\"bin\"], columns=\"trip_distance\")\n",
        "print(freq_table)"
      ],
      "metadata": {
        "colab": {
          "base_uri": "https://localhost:8080/"
        },
        "id": "Sxmv1YX_drBE",
        "outputId": "7c35d8c5-df58-42ce-8fcf-16fa18741e0b"
      },
      "execution_count": 8,
      "outputs": [
        {
          "output_type": "stream",
          "name": "stdout",
          "text": [
            "   trip_distance     bin\n",
            "0           0.70  (0, 1]\n",
            "1           1.40  (1, 2]\n",
            "2           5.70  (5, 6]\n",
            "3           3.04  (3, 4]\n",
            "4           4.04  (4, 5]\n",
            "col_0     trip_distance\n",
            "bin                    \n",
            "(0, 1]           539394\n",
            "(1, 2]           832183\n",
            "(2, 3]           428010\n",
            "(3, 4]           213627\n",
            "(4, 5]           111637\n",
            "(5, 6]            64987\n",
            "(6, 7]            44677\n",
            "(7, 8]            34458\n",
            "(8, 9]            30569\n",
            "(9, 10]           27841\n",
            "(10, 11]          22647\n",
            "(11, 12]          16226\n",
            "(12, 13]          11726\n",
            "(13, 14]           8845\n",
            "(14, 15]           7817\n",
            "(15, 16]           7916\n",
            "(16, 17]           9926\n",
            "(17, 18]          15529\n",
            "(18, 19]          15535\n",
            "(19, 20]          10360\n",
            "(20, 21]           6866\n",
            "(21, 22]           4118\n",
            "(22, 23]           2252\n",
            "(23, 24]           1228\n",
            "(24, 25]            832\n",
            "(25, 26]            752\n",
            "(26, 27]            679\n",
            "(27, 28]            521\n",
            "(28, 29]            376\n",
            "(29, 30]            264\n",
            "(30, 31]            209\n",
            "(31, 32]            152\n",
            "(32, 33]            150\n",
            "(33, 34]            118\n",
            "(34, 35]            116\n",
            "(35, 36]            118\n",
            "(36, 37]            110\n",
            "(37, 38]             91\n",
            "(38, 39]             86\n",
            "(39, 40]             63\n",
            "(40, 41]             69\n",
            "(41, 42]             54\n",
            "(42, 43]             44\n",
            "(43, 44]             39\n",
            "(44, 45]             44\n",
            "(45, 46]             37\n",
            "(46, 47]             31\n",
            "(47, 48]             31\n",
            "(48, 49]             35\n",
            "(49, 50]             27\n"
          ]
        }
      ]
    },
    {
      "cell_type": "code",
      "source": [
        "taxi.plot.hist(column=\"trip_distance\", bins=10)\n",
        "plt.show()"
      ],
      "metadata": {
        "colab": {
          "base_uri": "https://localhost:8080/",
          "height": 445
        },
        "id": "DBGiI3GZfTva",
        "outputId": "4f94ed80-05ac-4544-aafe-17c7bcccb9b6"
      },
      "execution_count": 9,
      "outputs": [
        {
          "output_type": "display_data",
          "data": {
            "text/plain": [
              "<Figure size 640x480 with 1 Axes>"
            ],
            "image/png": "[encoded data removed]"
          },
          "metadata": {}
        }
      ]
    },
    {
      "cell_type": "code",
      "source": [],
      "metadata": {
        "id": "jJQJluLbfYby"
      },
      "execution_count": null,
      "outputs": []
    }
  ]
}
