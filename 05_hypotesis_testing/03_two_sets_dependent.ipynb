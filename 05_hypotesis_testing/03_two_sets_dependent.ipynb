{
  "nbformat": 4,
  "nbformat_minor": 0,
  "metadata": {
    "colab": {
      "provenance": [],
      "authorship_tag": "ABX9TyNkdDsKieGUrwdImq66We7+",
      "include_colab_link": true
    },
    "kernelspec": {
      "name": "python3",
      "display_name": "Python 3"
    },
    "language_info": {
      "name": "python"
    }
  },
  "cells": [
    {
      "cell_type": "markdown",
      "metadata": {
        "id": "view-in-github",
        "colab_type": "text"
      },
      "source": [
        "<a href=\"https://colab.research.google.com/github/gorzanskik-ai/statistics/blob/main/05_hypotesis_testing/03_two_sets_dependent.ipynb\" target=\"_parent\"><img src=\"https://colab.research.google.com/assets/colab-badge.svg\" alt=\"Open In Colab\"/></a>"
      ]
    },
    {
      "cell_type": "code",
      "execution_count": 1,
      "metadata": {
        "id": "SDeCOIpFy_il"
      },
      "outputs": [],
      "source": [
        "import scipy.stats as stats\n",
        "import pandas as pd\n",
        "import math"
      ]
    },
    {
      "cell_type": "code",
      "source": [
        "# Two dependent values (pills)\n",
        "\n",
        "# H1:  mean before < mean after\n",
        "# H0:  mean before >= mean after\n",
        "\n",
        "# H1:  mean before - mean after < 0\n",
        "# H0 - mean before - mean after >= 0\n",
        "\n",
        "\n",
        "size = 30\n",
        "results_before = stats.norm.rvs(size=size, loc=14, scale=1)\n",
        "change = stats.norm.rvs(size=size, loc=0.2, scale=0.5)\n",
        "results_after = [x+y for (x,y) in zip(results_before, change)]\n",
        "\n",
        "df = pd.DataFrame(list(zip(results_before, results_after)), columns=['before', 'after'])\n",
        "df['diff'] = df['after'] - df['before']\n",
        "print(df)\n",
        "\n",
        "print('Before:',df['before'].mean(),df['before'].std())\n",
        "print('After:', df['after'].mean(), df['after'].std())\n",
        "print('Difference:', df['diff'].mean(), df['diff'].std())"
      ],
      "metadata": {
        "colab": {
          "base_uri": "https://localhost:8080/"
        },
        "id": "pDhpxn3ZzRus",
        "outputId": "ea6e8453-3f3e-40e1-9088-c8d9e67d2aba"
      },
      "execution_count": 2,
      "outputs": [
        {
          "output_type": "stream",
          "name": "stdout",
          "text": [
            "       before      after      diff\n",
            "0   13.861487  13.816121 -0.045366\n",
            "1   13.962482  14.316741  0.354259\n",
            "2   15.135449  15.591428  0.455979\n",
            "3   14.796799  14.443897 -0.352902\n",
            "4   12.744164  13.131069  0.386905\n",
            "5   13.891583  12.936695 -0.954888\n",
            "6   12.979467  12.940767 -0.038700\n",
            "7   14.478905  14.563768  0.084863\n",
            "8   15.953509  16.385118  0.431608\n",
            "9   13.307235  13.341861  0.034626\n",
            "10  13.585879  13.704143  0.118264\n",
            "11  12.809996  14.354855  1.544859\n",
            "12  12.055981  12.923799  0.867819\n",
            "13  14.374596  14.416588  0.041992\n",
            "14  14.984525  15.738511  0.753986\n",
            "15  13.972889  14.182975  0.210086\n",
            "16  14.281442  13.523339 -0.758103\n",
            "17  13.554225  12.831520 -0.722704\n",
            "18  13.810877  14.108871  0.297994\n",
            "19  16.758903  16.941067  0.182164\n",
            "20  14.535313  15.177248  0.641935\n",
            "21  12.843134  13.693087  0.849952\n",
            "22  11.578485  11.016497 -0.561988\n",
            "23  15.010416  15.444468  0.434052\n",
            "24  13.972523  13.708547 -0.263976\n",
            "25  15.475573  15.343462 -0.132112\n",
            "26  14.656017  15.266086  0.610069\n",
            "27  14.746978  15.912307  1.165329\n",
            "28  15.262729  15.493544  0.230814\n",
            "29  15.545324  15.604078  0.058755\n",
            "Before: 14.16422954140807 1.1499971900416623\n",
            "After: 14.36174850566553 1.2819986999637716\n",
            "Difference: 0.19751896425745663 0.5585432927701703\n"
          ]
        }
      ]
    },
    {
      "cell_type": "code",
      "source": [
        "alpha = 0.05\n",
        "sample_size = len(df)\n",
        "sample_mean = df['diff'].mean()\n",
        "sample_stdev = df['diff'].std()\n",
        "confidence_level = 1-alpha\n",
        "\n",
        "t_critical = stats.t.ppf(q=confidence_level, df=sample_size-1)  #1.699\n",
        "t_score = (sample_mean - 0)/sample_stdev/math.sqrt(sample_size)\n",
        "print(f't-critical = {t_critical}, T-score = {t_score}')\n",
        "\n",
        "if t_critical < t_score:\n",
        "    print('We reject H0')\n",
        "else:\n",
        "    print('We accept H0')\n",
        "\n",
        "\n",
        "from statsmodels.stats.weightstats import ztest\n",
        "test_stat, p_value = ztest(df[\"before\"], df[\"after\"], value=0, alternative='larger')\n",
        "print(f'Z-test (p-value) = { p_value }')\n",
        "\n",
        "if p_value < alpha:\n",
        "    print('H0 is rejected')\n",
        "else:\n",
        "    print('H0 is accepted')"
      ],
      "metadata": {
        "colab": {
          "base_uri": "https://localhost:8080/"
        },
        "id": "uJA-hS9NzTpd",
        "outputId": "3389e7f0-77bd-44d7-d39e-cf6d5a2f7fd9"
      },
      "execution_count": 3,
      "outputs": [
        {
          "output_type": "stream",
          "name": "stdout",
          "text": [
            "t-critical = 1.6991270265334972, T-score = 0.06456413415589488\n",
            "We accept H0\n",
            "Z-test (p-value) = 0.73505637292658\n",
            "H0 is accepted\n"
          ]
        }
      ]
    },
    {
      "cell_type": "code",
      "source": [],
      "metadata": {
        "id": "I5GrufpazVxl"
      },
      "execution_count": null,
      "outputs": []
    }
  ]
}