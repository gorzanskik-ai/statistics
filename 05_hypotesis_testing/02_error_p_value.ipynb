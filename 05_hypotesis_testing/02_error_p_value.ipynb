{
  "nbformat": 4,
  "nbformat_minor": 0,
  "metadata": {
    "colab": {
      "provenance": [],
      "authorship_tag": "ABX9TyPlO45K4KW6KX2w4RPA6H3u",
      "include_colab_link": true
    },
    "kernelspec": {
      "name": "python3",
      "display_name": "Python 3"
    },
    "language_info": {
      "name": "python"
    }
  },
  "cells": [
    {
      "cell_type": "markdown",
      "metadata": {
        "id": "view-in-github",
        "colab_type": "text"
      },
      "source": [
        "<a href=\"https://colab.research.google.com/github/gorzanskik-ai/statistics/blob/main/05_hypotesis_testing/02_error_p_value.ipynb\" target=\"_parent\"><img src=\"https://colab.research.google.com/assets/colab-badge.svg\" alt=\"Open In Colab\"/></a>"
      ]
    },
    {
      "cell_type": "code",
      "execution_count": 1,
      "metadata": {
        "id": "CNz1NBtqtXcf"
      },
      "outputs": [],
      "source": [
        "import matplotlib.pyplot as plt\n",
        "import statistics\n",
        "from statsmodels.stats.weightstats import ztest\n",
        "import scipy.stats as stats\n",
        "import pandas as pd\n",
        "import math"
      ]
    },
    {
      "cell_type": "code",
      "source": [
        "# H0 - mean speed of typing is = 40 wpm\n",
        "# H1 - mean speed of typing is <> 40 wpm\n",
        "\n",
        "speed_h0 = 40\n",
        "speed_test = [41, 42, 34, 37, 40, 15, 46, 27, 35, 55, 52, 64, 51, 57, 49, 38, 76, 45, 65, 57, 68, 79, 44, 43,\n",
        "               23, 58, 53, 56, 15, 32, 37, 54, 43, 47, 55, 38, 50, 48, 55, 71, 78, 46, 54, 36, 44, 40, 31, 13,\n",
        "               55, 45, 40, 21, 27, 72, 54, 15, 30, 24, 20, 63, 18, 45, 48, 36, 42, 52, 55, 34, 47, 47, 11, 39,\n",
        "               47, 59, 52, 33, 36, 38, 63, 47, 40, 43, 20, 65, 43, 61, 29, 64, 64, 46, 53, 59, 34, 47, 41, 24,\n",
        "               51, 54, 60, 39]"
      ],
      "metadata": {
        "id": "3Luk9U_wwn5d"
      },
      "execution_count": 2,
      "outputs": []
    },
    {
      "cell_type": "code",
      "source": [
        "speed_test_len = len(speed_test)\n",
        "speed_test_mean = statistics.mean(speed_test)\n",
        "speed_test_stdev = statistics.stdev(speed_test)"
      ],
      "metadata": {
        "id": "RsuUbNSZwqNt"
      },
      "execution_count": 3,
      "outputs": []
    },
    {
      "cell_type": "code",
      "source": [
        "z_score = (speed_test_mean - speed_h0)/(speed_test_stdev/math.sqrt(speed_test_len))\n",
        "for i in range(100, 1, -1):\n",
        "\n",
        "    alpha = i/10000\n",
        "    confidence = 1 - alpha/2\n",
        "    z_critical = stats.norm.ppf(q=confidence)\n",
        "\n",
        "    if z_score > z_critical:\n",
        "        print(f'{alpha} - H0 should be rejected ({z_score} > {z_critical})')\n",
        "    else:\n",
        "        print(f'{alpha} - H0 should be accepted ({z_score} <= {z_critical})')\n",
        "\n",
        "\n",
        "print(ztest(speed_test, value=speed_h0))    #z_score, p_value"
      ],
      "metadata": {
        "colab": {
          "base_uri": "https://localhost:8080/"
        },
        "id": "i8H4w8b0wrs2",
        "outputId": "ccc2afc3-cadd-49f8-d15e-624df2627f42"
      },
      "execution_count": 5,
      "outputs": [
        {
          "output_type": "stream",
          "name": "stdout",
          "text": [
            "0.01 - H0 should be rejected (3.2774980069165704 > 2.5758293035489004)\n",
            "0.0099 - H0 should be rejected (3.2774980069165704 > 2.5793026781928914)\n",
            "0.0098 - H0 should be rejected (3.2774980069165704 > 2.5828074520082374)\n",
            "0.0097 - H0 should be rejected (3.2774980069165704 > 2.5863442417153255)\n",
            "0.0096 - H0 should be rejected (3.2774980069165704 > 2.589913682701565)\n",
            "0.0095 - H0 should be rejected (3.2774980069165704 > 2.5935164297884388)\n",
            "0.0094 - H0 should be rejected (3.2774980069165704 > 2.597153158038552)\n",
            "0.0093 - H0 should be rejected (3.2774980069165704 > 2.6008245636052014)\n",
            "0.0092 - H0 should be rejected (3.2774980069165704 > 2.604531364627191)\n",
            "0.0091 - H0 should be rejected (3.2774980069165704 > 2.60827430217183)\n",
            "0.009 - H0 should be rejected (3.2774980069165704 > 2.6120541412292817)\n",
            "0.0089 - H0 should be rejected (3.2774980069165704 > 2.6158716717615977)\n",
            "0.0088 - H0 should be rejected (3.2774980069165704 > 2.6197277098102485)\n",
            "0.0087 - H0 should be rejected (3.2774980069165704 > 2.623623098665929)\n",
            "0.0086 - H0 should be rejected (3.2774980069165704 > 2.6275587101050397)\n",
            "0.0085 - H0 should be rejected (3.2774980069165704 > 2.6315354456974234)\n",
            "0.0084 - H0 should be rejected (3.2774980069165704 > 2.6355542381903447)\n",
            "0.0083 - H0 should be rejected (3.2774980069165704 > 2.6396160529741577)\n",
            "0.0082 - H0 should be rejected (3.2774980069165704 > 2.643721889635497)\n",
            "0.0081 - H0 should be rejected (3.2774980069165704 > 2.6478727836043925)\n",
            "0.008 - H0 should be rejected (3.2774980069165704 > 2.6520698079021954)\n",
            "0.0079 - H0 should be rejected (3.2774980069165704 > 2.6563140749978653)\n",
            "0.0078 - H0 should be rejected (3.2774980069165704 > 2.6606067387807717)\n",
            "0.0077 - H0 should be rejected (3.2774980069165704 > 2.66494899665895)\n",
            "0.0076 - H0 should be rejected (3.2774980069165704 > 2.669342091792525)\n",
            "0.0075 - H0 should be rejected (3.2774980069165704 > 2.6737873154729117)\n",
            "0.0074 - H0 should be rejected (3.2774980069165704 > 2.6782860096594137)\n",
            "0.0073 - H0 should be rejected (3.2774980069165704 > 2.6828395696858967)\n",
            "0.0072 - H0 should be rejected (3.2774980069165704 > 2.6874494471514683)\n",
            "0.0071 - H0 should be rejected (3.2774980069165704 > 2.6921171530104075)\n",
            "0.007 - H0 should be rejected (3.2774980069165704 > 2.696844260878131)\n",
            "0.0069 - H0 should be rejected (3.2774980069165704 > 2.7016324105715444)\n",
            "0.0068 - H0 should be rejected (3.2774980069165704 > 2.7064833119042597)\n",
            "0.0067 - H0 should be rejected (3.2774980069165704 > 2.711398748758828)\n",
            "0.0066 - H0 should be rejected (3.2774980069165704 > 2.7163805834608685)\n",
            "0.0065 - H0 should be rejected (3.2774980069165704 > 2.7214307614823654)\n",
            "0.0064 - H0 should be rejected (3.2774980069165704 > 2.7265513165043984)\n",
            "0.0063 - H0 should be rejected (3.2774980069165704 > 2.731744375872891)\n",
            "0.0062 - H0 should be rejected (3.2774980069165704 > 2.7370121664846625)\n",
            "0.0061 - H0 should be rejected (3.2774980069165704 > 2.742357021145283)\n",
            "0.006 - H0 should be rejected (3.2774980069165704 > 2.7477813854449926)\n",
            "0.0059 - H0 should be rejected (3.2774980069165704 > 2.753287825204316)\n",
            "0.0058 - H0 should be rejected (3.2774980069165704 > 2.758879034547143)\n",
            "0.0057 - H0 should be rejected (3.2774980069165704 > 2.764557844665999)\n",
            "0.0056 - H0 should be rejected (3.2774980069165704 > 2.770327233352174)\n",
            "0.0055 - H0 should be rejected (3.2774980069165704 > 2.776190335372453)\n",
            "0.0054 - H0 should be rejected (3.2774980069165704 > 2.7821504537846025)\n",
            "0.0053 - H0 should be rejected (3.2774980069165704 > 2.7882110722956828)\n",
            "0.0052 - H0 should be rejected (3.2774980069165704 > 2.7943758687810356)\n",
            "0.0051 - H0 should be rejected (3.2774980069165704 > 2.800648730097625)\n",
            "0.005 - H0 should be rejected (3.2774980069165704 > 2.807033768343811)\n",
            "0.0049 - H0 should be rejected (3.2774980069165704 > 2.813535338738806)\n",
            "0.0048 - H0 should be rejected (3.2774980069165704 > 2.820158059320164)\n",
            "0.0047 - H0 should be rejected (3.2774980069165704 > 2.82690683268607)\n",
            "0.0046 - H0 should be rejected (3.2774980069165704 > 2.8337868700435522)\n",
            "0.0045 - H0 should be rejected (3.2774980069165704 > 2.8408037178631984)\n",
            "0.0044 - H0 should be rejected (3.2774980069165704 > 2.847963287487921)\n",
            "0.0043 - H0 should be rejected (3.2774980069165704 > 2.855271888098692)\n",
            "0.0042 - H0 should be rejected (3.2774980069165704 > 2.862736263505905)\n",
            "0.0041 - H0 should be rejected (3.2774980069165704 > 2.8703636333133584)\n",
            "0.004 - H0 should be rejected (3.2774980069165704 > 2.878161739095483)\n",
            "0.0039 - H0 should be rejected (3.2774980069165704 > 2.8861388963409507)\n",
            "0.0038 - H0 should be rejected (3.2774980069165704 > 2.8943040530514264)\n",
            "0.0037 - H0 should be rejected (3.2774980069165704 > 2.902666856048635)\n",
            "0.0036 - H0 should be rejected (3.2774980069165704 > 2.9112377262430016)\n",
            "0.0035 - H0 should be rejected (3.2774980069165704 > 2.920027944362015)\n",
            "0.0034 - H0 should be rejected (3.2774980069165704 > 2.9290497489376195)\n",
            "0.0033 - H0 should be rejected (3.2774980069165704 > 2.938316448724533)\n",
            "0.0032 - H0 should be rejected (3.2774980069165704 > 2.9478425521848974)\n",
            "0.0031 - H0 should be rejected (3.2774980069165704 > 2.957643917255075)\n",
            "0.003 - H0 should be rejected (3.2774980069165704 > 2.9677379253417944)\n",
            "0.0029 - H0 should be rejected (3.2774980069165704 > 2.978143684422971)\n",
            "0.0028 - H0 should be rejected (3.2774980069165704 > 2.9888822673158)\n",
            "0.0027 - H0 should be rejected (3.2774980069165704 > 2.9999769927034015)\n",
            "0.0026 - H0 should be rejected (3.2774980069165704 > 3.011453758499792)\n",
            "0.0025 - H0 should be rejected (3.2774980069165704 > 3.023341439739154)\n",
            "0.0024 - H0 should be rejected (3.2774980069165704 > 3.0356723666270784)\n",
            "0.0023 - H0 should be rejected (3.2774980069165704 > 3.0484829030093383)\n",
            "0.0022 - H0 should be rejected (3.2774980069165704 > 3.0618141517617614)\n",
            "0.0021 - H0 should be rejected (3.2774980069165704 > 3.0757128221610097)\n",
            "0.002 - H0 should be rejected (3.2774980069165704 > 3.090232306167813)\n",
            "0.0019 - H0 should be rejected (3.2774980069165704 > 3.1054340272627834)\n",
            "0.0018 - H0 should be rejected (3.2774980069165704 > 3.121389149359862)\n",
            "0.0017 - H0 should be rejected (3.2774980069165704 > 3.1381807680539264)\n",
            "0.0016 - H0 should be rejected (3.2774980069165704 > 3.155906757921808)\n",
            "0.0015 - H0 should be rejected (3.2774980069165704 > 3.174683527455065)\n",
            "0.0014 - H0 should be rejected (3.2774980069165704 > 3.1946510537632724)\n",
            "0.0013 - H0 should be rejected (3.2774980069165704 > 3.21597976078809)\n",
            "0.0012 - H0 should be rejected (3.2774980069165704 > 3.2388801183529563)\n",
            "0.0011 - H0 should be rejected (3.2774980069165704 > 3.263616370069222)\n",
            "0.001 - H0 should be accepted (3.2774980069165704 <= 3.2905267314919255)\n",
            "0.0009 - H0 should be accepted (3.2774980069165704 <= 3.3200541166994784)\n",
            "0.0008 - H0 should be accepted (3.2774980069165704 <= 3.3527947805048592)\n",
            "0.0007 - H0 should be accepted (3.2774980069165704 <= 3.3895791411330207)\n",
            "0.0006 - H0 should be accepted (3.2774980069165704 <= 3.431614403623299)\n",
            "0.0005 - H0 should be accepted (3.2774980069165704 <= 3.4807564043462422)\n",
            "0.0004 - H0 should be accepted (3.2774980069165704 <= 3.540083799206175)\n",
            "0.0003 - H0 should be accepted (3.2774980069165704 <= 3.6153000069246914)\n",
            "0.0002 - H0 should be accepted (3.2774980069165704 <= 3.719016485455709)\n",
            "(3.2774980069165704, 0.0010473146991995524)\n"
          ]
        }
      ]
    },
    {
      "cell_type": "code",
      "source": [],
      "metadata": {
        "id": "816bbuGjwuic"
      },
      "execution_count": null,
      "outputs": []
    }
  ]
}