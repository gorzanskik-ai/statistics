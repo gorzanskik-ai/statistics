{
  "nbformat": 4,
  "nbformat_minor": 0,
  "metadata": {
    "colab": {
      "provenance": [],
      "authorship_tag": "ABX9TyOC1qztTDFtDCx8JNalmOvm",
      "include_colab_link": true
    },
    "kernelspec": {
      "name": "python3",
      "display_name": "Python 3"
    },
    "language_info": {
      "name": "python"
    }
  },
  "cells": [
    {
      "cell_type": "markdown",
      "metadata": {
        "id": "view-in-github",
        "colab_type": "text"
      },
      "source": [
        "<a href=\"https://colab.research.google.com/github/gorzanskik-ai/statistics/blob/main/05_hypotesis_testing/01_intro.ipynb\" target=\"_parent\"><img src=\"https://colab.research.google.com/assets/colab-badge.svg\" alt=\"Open In Colab\"/></a>"
      ]
    },
    {
      "cell_type": "code",
      "execution_count": 24,
      "metadata": {
        "id": "exnQfOYrfqId"
      },
      "outputs": [],
      "source": [
        "import matplotlib.pyplot as plt\n",
        "import scipy.stats as stats\n",
        "import pandas as pd\n",
        "import math"
      ]
    },
    {
      "cell_type": "markdown",
      "source": [
        "Average time of typing"
      ],
      "metadata": {
        "id": "kTXULQF6j0fv"
      }
    },
    {
      "cell_type": "code",
      "source": [
        "# H0 - mean speed of typing is <= 40 words per minute\n",
        "# H1 - mean speed of typing is > 40 words per minute\n",
        "\n",
        "speed_h0 = 40\n",
        "\n",
        "speed_test = stats.norm.rvs(size=100, loc=45, scale=15)\n",
        "speed_test = speed_test.astype(int)"
      ],
      "metadata": {
        "id": "RDdbZ0tNj4ke"
      },
      "execution_count": 25,
      "outputs": []
    },
    {
      "cell_type": "code",
      "source": [
        "speed_test_len = len(speed_test)\n",
        "speed_test_mean = speed_test.mean()\n",
        "speed_test_std = speed_test.std()\n",
        "\n",
        "print(speed_test)\n",
        "print(speed_test_mean)"
      ],
      "metadata": {
        "colab": {
          "base_uri": "https://localhost:8080/"
        },
        "id": "ZBE_ZuFOkJ3W",
        "outputId": "9dbc4733-d762-4bb3-c2a8-267c1b85d07c"
      },
      "execution_count": 26,
      "outputs": [
        {
          "output_type": "stream",
          "name": "stdout",
          "text": [
            "[26 72 63 29 53 32 23 39 50 30 48 41 48 51 33 56 41 56 26 55 33 26 63 58\n",
            " 63 36 28 36 31 58 50 56 45 37 63 31 22 59 52 66 68  8 38 52 24 56 46 37\n",
            " 34 31 42 52 54 33 47 72 33 41 54 76 68 25 64 30 21 43 60 33 44 32 42 16\n",
            " 36 39 35 28 37 44 56 36 31 60 35 52 37 48 31 54 49 47 27 41 55 64 43 37\n",
            " 46 57 71 60]\n",
            "44.17\n"
          ]
        }
      ]
    },
    {
      "cell_type": "code",
      "source": [
        "z_score = (speed_test_mean - speed_h0) / (speed_test_std / math.sqrt(speed_test_len))\n",
        "print(f'z-score: {z_score}')"
      ],
      "metadata": {
        "colab": {
          "base_uri": "https://localhost:8080/"
        },
        "id": "-8L0xAklk8nw",
        "outputId": "30c17501-c32c-4b11-8797-b174577691d5"
      },
      "execution_count": 27,
      "outputs": [
        {
          "output_type": "stream",
          "name": "stdout",
          "text": [
            "z-score: 2.956769451116894\n"
          ]
        }
      ]
    },
    {
      "cell_type": "code",
      "source": [
        "alpha = 0.1\n",
        "confidenve_level = 1 - alpha\n",
        "z_critical = stats.norm.ppf(q=confidenve_level)\n",
        "print(f'z-critical: {z_critical}')"
      ],
      "metadata": {
        "colab": {
          "base_uri": "https://localhost:8080/"
        },
        "id": "yNQ2bFAelrCA",
        "outputId": "83afa0d9-68ff-49b7-f70f-6f32abba162e"
      },
      "execution_count": 28,
      "outputs": [
        {
          "output_type": "stream",
          "name": "stdout",
          "text": [
            "z-critical: 1.2815515655446004\n"
          ]
        }
      ]
    },
    {
      "cell_type": "code",
      "source": [
        "if z_score > z_critical:\n",
        "    print('H0 should be rejected')\n",
        "else:\n",
        "    print('H0 schould be accepted')"
      ],
      "metadata": {
        "colab": {
          "base_uri": "https://localhost:8080/"
        },
        "id": "73b0KFy9mtJI",
        "outputId": "d6c0e3c0-cc61-454f-ef77-0eb78391b6c3"
      },
      "execution_count": 29,
      "outputs": [
        {
          "output_type": "stream",
          "name": "stdout",
          "text": [
            "H0 should be rejected\n"
          ]
        }
      ]
    },
    {
      "cell_type": "code",
      "source": [],
      "metadata": {
        "id": "NUKp49I-nmqA"
      },
      "execution_count": 29,
      "outputs": []
    }
  ]
}