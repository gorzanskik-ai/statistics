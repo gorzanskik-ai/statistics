{
  "nbformat": 4,
  "nbformat_minor": 0,
  "metadata": {
    "colab": {
      "provenance": [],
      "authorship_tag": "ABX9TyP2ZDQwrrYDVELRFG3CwTpx",
      "include_colab_link": true
    },
    "kernelspec": {
      "name": "python3",
      "display_name": "Python 3"
    },
    "language_info": {
      "name": "python"
    }
  },
  "cells": [
    {
      "cell_type": "markdown",
      "metadata": {
        "id": "view-in-github",
        "colab_type": "text"
      },
      "source": [
        "<a href=\"https://colab.research.google.com/github/gorzanskik-ai/statistics/blob/main/05_hypotesis_testing/04_two_sets_independent.ipynb\" target=\"_parent\"><img src=\"https://colab.research.google.com/assets/colab-badge.svg\" alt=\"Open In Colab\"/></a>"
      ]
    },
    {
      "cell_type": "code",
      "execution_count": 8,
      "metadata": {
        "id": "wXDvP2KIzdHw"
      },
      "outputs": [],
      "source": [
        "import scipy.stats as stats\n",
        "import statistics\n",
        "import pandas as pd\n",
        "import math\n",
        "import random"
      ]
    },
    {
      "cell_type": "code",
      "source": [
        "# Two independent values and variance is known (sometimes \"well known\")\n",
        "# H0: mean therapists - mean doctors <= 0\n",
        "# H1: mean therapitst - mean doctors > 0\n",
        "\n",
        "doctors = stats.norm.rvs(size=70, loc=65, scale=10)\n",
        "therapists = stats.norm.rvs(size=40, loc=75, scale=10)\n",
        "\n",
        "print(min(doctors), max(doctors))\n",
        "print(min(therapists), max(therapists))\n",
        "\n",
        "mean_doc = statistics.mean(doctors)\n",
        "mean_ther = statistics.mean(therapists)\n",
        "st_dev_doc = statistics.stdev(doctors)\n",
        "st_dev_ther = statistics.stdev(therapists)\n",
        "count_doc = len(doctors)\n",
        "count_ther = len(therapists)"
      ],
      "metadata": {
        "colab": {
          "base_uri": "https://localhost:8080/"
        },
        "id": "SYxBT24mzhO4",
        "outputId": "a70839fb-d795-4229-bfe9-e4a29fe9bca6"
      },
      "execution_count": 9,
      "outputs": [
        {
          "output_type": "stream",
          "name": "stdout",
          "text": [
            "49.156566740368554 95.5336745058639\n",
            "54.075102444731385 98.20771354427552\n"
          ]
        }
      ]
    },
    {
      "cell_type": "code",
      "source": [
        "alpha = 0.05\n",
        "confidence_level = 1-alpha\n",
        "z_critical = stats.norm.ppf(q=1-alpha)\n",
        "print(f'Z-critical = {z_critical}') #1.644\n",
        "z_score = ((mean_ther - mean_doc) - 0) / math.sqrt(st_dev_ther**2/count_ther + st_dev_doc**2/count_doc)\n",
        "print(f'Z-score = {z_score}')\n",
        "\n",
        "if z_critical < z_score :\n",
        "    print('We reject H0')\n",
        "else:\n",
        "    print('We accept H0')\n",
        "\n",
        "from statsmodels.stats.weightstats import ztest\n",
        "z_stat, p_value = ztest(therapists, doctors, alternative='larger')\n",
        "print(f'Z-test (p-value) = { p_value }')\n",
        "\n",
        "if p_value < alpha:\n",
        "    print('We reject H0')\n",
        "else:\n",
        "    print('We accept H0')"
      ],
      "metadata": {
        "colab": {
          "base_uri": "https://localhost:8080/"
        },
        "id": "hKGcwMsjznpu",
        "outputId": "d50f35b0-8abe-49d6-bd6d-a3ffb2655297"
      },
      "execution_count": 10,
      "outputs": [
        {
          "output_type": "stream",
          "name": "stdout",
          "text": [
            "Z-critical = 1.6448536269514722\n",
            "Z-score = 4.767282951251451\n",
            "We reject H0\n",
            "Z-test (p-value) = 7.872854360057462e-07\n",
            "We reject H0\n"
          ]
        }
      ]
    },
    {
      "cell_type": "code",
      "source": [
        "# Two independent values and variance is unknown and assumed to be equal\n",
        "# H0: mean therapists - mean doctors <= 0\n",
        "# H1: mean therapitst - mean doctors > 0\n",
        "\n",
        "alpha = 0.05\n",
        "confidence_level = 1-alpha\n",
        "t_critical = stats.t.ppf(q=1-alpha, df=count_doc+count_ther-2)\n",
        "print(f'T-critical = {t_critical}') #1.6590851435825054\n",
        "var_p = ((count_doc-1)*st_dev_doc**2 +(count_ther-1)*st_dev_ther**2)/(count_doc+count_ther-2)\n",
        "t_score = ((mean_ther - mean_doc) - 0) / math.sqrt(var_p/count_doc + var_p/count_ther)\n",
        "print(f'T-score = {t_score}')\n",
        "\n",
        "if t_critical < t_score:\n",
        "    print('We reject H0')\n",
        "else:\n",
        "    print('We accept H0')\n",
        "\n",
        "from statsmodels.stats.weightstats import ttest_ind\n",
        "t_stat, p_value, df = ttest_ind(therapists, doctors, alternative='larger')\n",
        "print(f'T-test (p-value) = { p_value }')\n",
        "\n",
        "if p_value < alpha:\n",
        "    print('We reject H0')\n",
        "else:\n",
        "    print('We accept H0')"
      ],
      "metadata": {
        "colab": {
          "base_uri": "https://localhost:8080/"
        },
        "id": "7v9N3M7Rzuet",
        "outputId": "9a1fee1d-e603-4b1d-c330-75fdff82c994"
      },
      "execution_count": 11,
      "outputs": [
        {
          "output_type": "stream",
          "name": "stdout",
          "text": [
            "T-critical = 1.6590851435825054\n",
            "T-score = 4.801531050668591\n",
            "We reject H0\n",
            "T-test (p-value) = 2.5474612659847954e-06\n",
            "We reject H0\n"
          ]
        }
      ]
    },
    {
      "cell_type": "code",
      "source": [],
      "metadata": {
        "id": "XoRQwKu1zuyV"
      },
      "execution_count": null,
      "outputs": []
    }
  ]
}