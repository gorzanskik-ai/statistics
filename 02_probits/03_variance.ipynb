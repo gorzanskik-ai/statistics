{
  "nbformat": 4,
  "nbformat_minor": 0,
  "metadata": {
    "colab": {
      "provenance": [],
      "authorship_tag": "ABX9TyMn6BhglRoCvLXGJXZx/lMr",
      "include_colab_link": true
    },
    "kernelspec": {
      "name": "python3",
      "display_name": "Python 3"
    },
    "language_info": {
      "name": "python"
    }
  },
  "cells": [
    {
      "cell_type": "markdown",
      "metadata": {
        "id": "view-in-github",
        "colab_type": "text"
      },
      "source": [
        "<a href=\"https://colab.research.google.com/github/gorzanskik-ai/statistics/blob/main/02_probits/03_variance.ipynb\" target=\"_parent\"><img src=\"https://colab.research.google.com/assets/colab-badge.svg\" alt=\"Open In Colab\"/></a>"
      ]
    },
    {
      "cell_type": "code",
      "execution_count": 1,
      "metadata": {
        "id": "_aX_nXi6Ix0H"
      },
      "outputs": [],
      "source": [
        "from statistics import mean, median, mode"
      ]
    },
    {
      "cell_type": "code",
      "source": [
        "list1 = [1, 5, 9, 9, 9, 13, 17]\n",
        "list2 = [1, 1, 9, 9, 9, 17, 17]"
      ],
      "metadata": {
        "id": "4RqpgLZVMqpR"
      },
      "execution_count": 22,
      "outputs": []
    },
    {
      "cell_type": "code",
      "source": [
        "print(f'Mean:   list1: {mean(list1)}, list2: {mean(list2)}')\n",
        "print(f'Median: list1: {median(list1)}, list2: {median(list2)}')\n",
        "print(f'Mode:   list1: {mode(list1)}, list2: {mode(list2)}')"
      ],
      "metadata": {
        "colab": {
          "base_uri": "https://localhost:8080/"
        },
        "id": "ebfcSB_3MzdB",
        "outputId": "1dc4cd75-1128-49fe-8cfd-ea52ac9200c9"
      },
      "execution_count": 3,
      "outputs": [
        {
          "output_type": "stream",
          "name": "stdout",
          "text": [
            "Mean:   list1: 9, list2: 9\n",
            "Median: list1: 9, list2: 9\n",
            "Mode:   list1: 9, list2: 9\n"
          ]
        }
      ]
    },
    {
      "cell_type": "code",
      "source": [
        "import matplotlib.pyplot as plt\n",
        "from random import randint, sample\n",
        "from statistics import variance, pvariance"
      ],
      "metadata": {
        "id": "5xuwzo5lNPA6"
      },
      "execution_count": 5,
      "outputs": []
    },
    {
      "cell_type": "markdown",
      "source": [
        "Population"
      ],
      "metadata": {
        "id": "ZAUVJ2oOlMC1"
      }
    },
    {
      "cell_type": "code",
      "source": [
        "rands = [randint(0, 100) for i in range(200)]\n",
        "mean_population = mean(rands)\n",
        "var_population = sum([(i - mean_population) ** 2 for i in rands]) / len(rands)"
      ],
      "metadata": {
        "id": "x9il9_qPjXwB"
      },
      "execution_count": 10,
      "outputs": []
    },
    {
      "cell_type": "code",
      "source": [
        "var_population"
      ],
      "metadata": {
        "colab": {
          "base_uri": "https://localhost:8080/"
        },
        "id": "GPLB7YYokgZo",
        "outputId": "60c24976-e279-4e5c-86c9-1e23dd7c3ecf"
      },
      "execution_count": 7,
      "outputs": [
        {
          "output_type": "execute_result",
          "data": {
            "text/plain": [
              "799.3663999999993"
            ]
          },
          "metadata": {},
          "execution_count": 7
        }
      ]
    },
    {
      "cell_type": "code",
      "source": [
        "pvariance(rands)"
      ],
      "metadata": {
        "colab": {
          "base_uri": "https://localhost:8080/"
        },
        "id": "Y6hq6BbNkoYp",
        "outputId": "dee4fb4d-99df-4ef8-8b5c-4c4cde612186"
      },
      "execution_count": 9,
      "outputs": [
        {
          "output_type": "execute_result",
          "data": {
            "text/plain": [
              "799.3664"
            ]
          },
          "metadata": {},
          "execution_count": 9
        }
      ]
    },
    {
      "cell_type": "markdown",
      "source": [
        "Probe"
      ],
      "metadata": {
        "id": "kguPKAfdkp7w"
      }
    },
    {
      "cell_type": "code",
      "source": [
        "probe = sample(rands, 50)\n",
        "mean_probe = mean(probe)\n",
        "var_probe = sum([(i - mean_probe) ** 2 for i in probe]) / (len(probe) - 1)"
      ],
      "metadata": {
        "id": "PiiY9CvDk0PK"
      },
      "execution_count": 14,
      "outputs": []
    },
    {
      "cell_type": "code",
      "source": [
        "var_probe"
      ],
      "metadata": {
        "colab": {
          "base_uri": "https://localhost:8080/"
        },
        "id": "nxapCE9JlFQa",
        "outputId": "e99bdfaf-7f2f-418c-bcf1-6c7fc980a274"
      },
      "execution_count": 15,
      "outputs": [
        {
          "output_type": "execute_result",
          "data": {
            "text/plain": [
              "799.795918367347"
            ]
          },
          "metadata": {},
          "execution_count": 15
        }
      ]
    },
    {
      "cell_type": "code",
      "source": [
        "variance(probe)"
      ],
      "metadata": {
        "colab": {
          "base_uri": "https://localhost:8080/"
        },
        "id": "v74LZHAIlGqB",
        "outputId": "8604d1dd-f668-4056-936b-0ea24cdc1ef6"
      },
      "execution_count": 16,
      "outputs": [
        {
          "output_type": "execute_result",
          "data": {
            "text/plain": [
              "799.795918367347"
            ]
          },
          "metadata": {},
          "execution_count": 16
        }
      ]
    },
    {
      "cell_type": "markdown",
      "source": [
        "Comparision"
      ],
      "metadata": {
        "id": "EIS6adw7lIWx"
      }
    },
    {
      "cell_type": "code",
      "source": [
        "pvariances = []\n",
        "variances = []\n",
        "\n",
        "for i in range(1, 101):\n",
        "    probe = sample(rands, round(len(rands) * i/100))\n",
        "\n",
        "    pvariances.append(pvariance(probe))\n",
        "    variances.append(variance(probe))\n",
        "\n",
        "plt.hlines(xmin=1, xmax=100, y=var_population, linestyles='solid', colors='red', linestyle='dotted', label='variance')\n",
        "plt.plot(variances, color='blue', label='variances')\n",
        "plt.plot(pvariances, color='green', label='pvariances')\n",
        "plt.legend(['variance', 'variances', 'pvariances'])\n",
        "plt.show()"
      ],
      "metadata": {
        "colab": {
          "base_uri": "https://localhost:8080/",
          "height": 430
        },
        "id": "tdhAUAGtmV2y",
        "outputId": "fb1da879-e21c-47e6-a7be-04d7da4e8c3d"
      },
      "execution_count": 21,
      "outputs": [
        {
          "output_type": "display_data",
          "data": {
            "text/plain": [
              "<Figure size 640x480 with 1 Axes>"
            ],
            "image/png": "[encoded data removed]"
          },
          "metadata": {}
        }
      ]
    },
    {
      "cell_type": "code",
      "source": [
        "list1 = [1, 5, 9, 9, 9, 13, 17]\n",
        "list2 = [1, 1, 9, 9, 9, 17, 17]\n",
        "\n",
        "print(f'list 1 variance: {pvariance(list1)}')\n",
        "print(f'list 2 variance: {pvariance(list2)}')"
      ],
      "metadata": {
        "colab": {
          "base_uri": "https://localhost:8080/"
        },
        "id": "F_CR4I8JnAw5",
        "outputId": "d0b002b6-64b3-432c-eb67-e271dea98c28"
      },
      "execution_count": 23,
      "outputs": [
        {
          "output_type": "stream",
          "name": "stdout",
          "text": [
            "list 1 variance: 22.857142857142858\n",
            "list 2 variance: 36.57142857142857\n"
          ]
        }
      ]
    },
    {
      "cell_type": "code",
      "source": [],
      "metadata": {
        "id": "V2_ECeHbrZ9s"
      },
      "execution_count": null,
      "outputs": []
    }
  ]
}