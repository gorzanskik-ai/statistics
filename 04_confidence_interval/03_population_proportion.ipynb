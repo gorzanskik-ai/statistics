{
  "nbformat": 4,
  "nbformat_minor": 0,
  "metadata": {
    "colab": {
      "provenance": [],
      "authorship_tag": "ABX9TyPxIju+s8KnQRbJlGpAE0PG",
      "include_colab_link": true
    },
    "kernelspec": {
      "name": "python3",
      "display_name": "Python 3"
    },
    "language_info": {
      "name": "python"
    }
  },
  "cells": [
    {
      "cell_type": "markdown",
      "metadata": {
        "id": "view-in-github",
        "colab_type": "text"
      },
      "source": [
        "<a href=\"https://colab.research.google.com/github/gorzanskik-ai/statistics/blob/main/04_confidence_interval/03_population_proportion.ipynb\" target=\"_parent\"><img src=\"https://colab.research.google.com/assets/colab-badge.svg\" alt=\"Open In Colab\"/></a>"
      ]
    },
    {
      "cell_type": "code",
      "execution_count": 6,
      "metadata": {
        "id": "HQ8mVRAYdSn1"
      },
      "outputs": [],
      "source": [
        "import scipy.stats as stats\n",
        "import math"
      ]
    },
    {
      "cell_type": "code",
      "source": [
        "z_critical = stats.norm.ppf(0.95)\n",
        "print(f'z_critical: {z_critical}')"
      ],
      "metadata": {
        "colab": {
          "base_uri": "https://localhost:8080/"
        },
        "id": "Hq_yx80ChK87",
        "outputId": "6264b852-18fb-4705-c2de-a7b87b3bf581"
      },
      "execution_count": 7,
      "outputs": [
        {
          "output_type": "stream",
          "name": "stdout",
          "text": [
            "z_critical: 1.6448536269514722\n"
          ]
        }
      ]
    },
    {
      "cell_type": "code",
      "source": [
        "p = 200 / 1000  #yes voters to all\n",
        "n = 1000    #sample size\n",
        "\n",
        "margin_error = z_critical * math.sqrt((p * (1 - p)) / n)\n",
        "confidence_interval = (p - margin_error, p + margin_error)\n",
        "print(f'confidence interval: {confidence_interval}')"
      ],
      "metadata": {
        "colab": {
          "base_uri": "https://localhost:8080/"
        },
        "id": "9oGRPQXxhTfF",
        "outputId": "13e5577e-ddb3-46ce-f1fa-e464f2901a9f"
      },
      "execution_count": 8,
      "outputs": [
        {
          "output_type": "stream",
          "name": "stdout",
          "text": [
            "confidence interval: (0.1791940644849777, 0.2208059355150223)\n"
          ]
        }
      ]
    },
    {
      "cell_type": "code",
      "source": [
        "confidence_interval = stats.norm.interval(confidence=0.95, loc=p, scale=math.sqrt((p * (1 - p)) / n))\n",
        "print(f'confidence interval: {confidence_interval}')"
      ],
      "metadata": {
        "colab": {
          "base_uri": "https://localhost:8080/"
        },
        "id": "5QbMvC8LiV6c",
        "outputId": "863a5f00-e2ff-475b-d1b4-ba93bf504e45"
      },
      "execution_count": 9,
      "outputs": [
        {
          "output_type": "stream",
          "name": "stdout",
          "text": [
            "confidence interval: (0.17520819870781754, 0.22479180129218249)\n"
          ]
        }
      ]
    },
    {
      "cell_type": "code",
      "source": [],
      "metadata": {
        "id": "_fbXeum2jWjl"
      },
      "execution_count": null,
      "outputs": []
    }
  ]
}