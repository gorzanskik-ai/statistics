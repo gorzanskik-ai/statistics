{
  "nbformat": 4,
  "nbformat_minor": 0,
  "metadata": {
    "colab": {
      "provenance": [],
      "authorship_tag": "ABX9TyNJ/MPsdVBVyilCMchehhnr",
      "include_colab_link": true
    },
    "kernelspec": {
      "name": "python3",
      "display_name": "Python 3"
    },
    "language_info": {
      "name": "python"
    }
  },
  "cells": [
    {
      "cell_type": "markdown",
      "metadata": {
        "id": "view-in-github",
        "colab_type": "text"
      },
      "source": [
        "<a href=\"https://colab.research.google.com/github/gorzanskik-ai/statistics/blob/main/04_confidence_interval/05_confidence_interval_two_sets_independent.ipynb\" target=\"_parent\"><img src=\"https://colab.research.google.com/assets/colab-badge.svg\" alt=\"Open In Colab\"/></a>"
      ]
    },
    {
      "cell_type": "code",
      "execution_count": 1,
      "metadata": {
        "id": "244r4GYyeaWc"
      },
      "outputs": [],
      "source": [
        "import scipy.stats as stats\n",
        "import statistics\n",
        "import pandas as pd\n",
        "import math\n",
        "import random"
      ]
    },
    {
      "cell_type": "code",
      "source": [
        "doctors = stats.norm.rvs(size=70, loc=65, scale=10)\n",
        "therapists = stats.norm.rvs(size=40, loc=75, scale=10)\n",
        "\n",
        "print(min(doctors), max(doctors))\n",
        "print(min(therapists), max(therapists))\n",
        "\n",
        "mean_doc = statistics.mean(doctors)\n",
        "mean_ther = statistics.mean(therapists)\n",
        "st_dev_doc = statistics.stdev(doctors)\n",
        "st_dev_ther = statistics.stdev(therapists)\n",
        "count_doc = len(doctors)\n",
        "count_ther = len(therapists)"
      ],
      "metadata": {
        "colab": {
          "base_uri": "https://localhost:8080/"
        },
        "id": "SpczC_iOelBB",
        "outputId": "494db4cf-4bd6-46a1-a6b2-0159a94d9098"
      },
      "execution_count": 2,
      "outputs": [
        {
          "output_type": "stream",
          "name": "stdout",
          "text": [
            "43.47527625548643 87.2948052127474\n",
            "52.063587042297385 89.68625559393699\n"
          ]
        }
      ]
    },
    {
      "cell_type": "markdown",
      "source": [
        "Variance is known"
      ],
      "metadata": {
        "id": "D1GOAc7phuYh"
      }
    },
    {
      "cell_type": "markdown",
      "source": [
        "Confidence level - 90%"
      ],
      "metadata": {
        "id": "26z5aHNdhwxl"
      }
    },
    {
      "cell_type": "code",
      "source": [
        "alpha = 0.1\n",
        "alpha_2 = alpha/2\n",
        "confidence_level = 1-alpha\n",
        "z_critical = stats.norm.ppf(q=1-alpha_2)\n",
        "print(f'Z-critical = {z_critical}') #1.6448536269514722\n",
        "margin_of_error = z_critical * math.sqrt(st_dev_doc**2/count_doc + st_dev_ther**2/count_ther)\n",
        "confidence_interval = ((mean_ther-mean_doc) - margin_of_error, (mean_ther-mean_doc) + margin_of_error)\n",
        "\n",
        "print(f'We are {confidence_level} sure, that the difference between results of thereapists and doctors\\\n",
        " falls into interval {confidence_interval}')"
      ],
      "metadata": {
        "colab": {
          "base_uri": "https://localhost:8080/"
        },
        "id": "Vxxy7qCXemnw",
        "outputId": "3fa9a8b4-86e1-48b6-b04f-34c457a415a9"
      },
      "execution_count": 3,
      "outputs": [
        {
          "output_type": "stream",
          "name": "stdout",
          "text": [
            "Z-critical = 1.6448536269514722\n",
            "We are 0.9 sure, that the difference between results of thereapists and doctors falls into interval (6.305878252008018, 12.638736803540365)\n"
          ]
        }
      ]
    },
    {
      "cell_type": "markdown",
      "source": [
        "Confidence level - 95%"
      ],
      "metadata": {
        "id": "KJhzf8Duhzak"
      }
    },
    {
      "cell_type": "code",
      "source": [
        "alpha = 0.05\n",
        "alpha_2 = alpha/2\n",
        "confidence_level = 1-alpha\n",
        "z_critical = stats.norm.ppf(q=1-alpha_2)\n",
        "print(f'Z-critical = {z_critical}') #1.959963984540054\n",
        "margin_of_error = z_critical * math.sqrt(st_dev_doc**2/count_doc + st_dev_ther**2/count_ther)\n",
        "confidence_interval = ((mean_ther-mean_doc) - margin_of_error, (mean_ther-mean_doc) + margin_of_error)\n",
        "\n",
        "print(f'We are {confidence_level} sure, that the difference between results of thereapists and doctors\\\n",
        " falls into interval {confidence_interval}')"
      ],
      "metadata": {
        "colab": {
          "base_uri": "https://localhost:8080/"
        },
        "id": "oJetnz9feoBR",
        "outputId": "c4801cac-4e7d-4a5a-b4c4-fefd35483641"
      },
      "execution_count": 4,
      "outputs": [
        {
          "output_type": "stream",
          "name": "stdout",
          "text": [
            "Z-critical = 1.959963984540054\n",
            "We are 0.95 sure, that the difference between results of thereapists and doctors falls into interval (5.69927432992233, 13.245340725626052)\n"
          ]
        }
      ]
    },
    {
      "cell_type": "markdown",
      "source": [
        "Variance is unkown and assumed to be equal"
      ],
      "metadata": {
        "id": "FzMKoQXKeqAD"
      }
    },
    {
      "cell_type": "markdown",
      "source": [
        "Confidence level - 90%"
      ],
      "metadata": {
        "id": "3yhqxG3Qh6Mx"
      }
    },
    {
      "cell_type": "code",
      "source": [
        "alpha = 0.1\n",
        "alpha_2 = alpha/2\n",
        "confidence_level = 1-alpha\n",
        "t_critical = stats.t.ppf(q=1-alpha_2, df=count_doc+count_ther-2)\n",
        "print(f'T-critical = {t_critical}') #1.6590851435825054\n",
        "var_p = ((count_doc-1)*st_dev_doc**2 +(count_ther-1)*st_dev_ther**2)/(count_doc+count_ther-2)\n",
        "margin_of_error = t_critical * math.sqrt(var_p/count_doc + var_p/count_ther)\n",
        "confidence_interval = ((mean_ther-mean_doc) - margin_of_error, (mean_ther-mean_doc) + margin_of_error)\n",
        "\n",
        "print(f'We are {confidence_level} sure, that the difference between results of thereapists and doctors\\\n",
        " falls into interval {confidence_interval}')"
      ],
      "metadata": {
        "colab": {
          "base_uri": "https://localhost:8080/"
        },
        "id": "iSbjICd9h76R",
        "outputId": "9102a77f-357f-4c65-a8dc-b72eaf9f6880"
      },
      "execution_count": 5,
      "outputs": [
        {
          "output_type": "stream",
          "name": "stdout",
          "text": [
            "T-critical = 1.6590851435825054\n",
            "We are 0.9 sure, that the difference between results of thereapists and doctors falls into interval (6.176732327746462, 12.76788272780192)\n"
          ]
        }
      ]
    },
    {
      "cell_type": "markdown",
      "source": [
        "Confidence level - 95%"
      ],
      "metadata": {
        "id": "aIbpZKGDh9yS"
      }
    },
    {
      "cell_type": "code",
      "source": [
        "alpha = 0.05\n",
        "alpha_2 = alpha/2\n",
        "confidence_level = 1-alpha\n",
        "t_critical = stats.t.ppf(q=1-alpha_2, df=count_doc+count_ther-2)\n",
        "print(f'T-critical = {t_critical}') #1.982173483257451\n",
        "var_p = ((count_doc-1)*st_dev_doc**2 +(count_ther-1)*st_dev_ther**2)/(count_doc+count_ther-2)\n",
        "margin_of_error = t_critical * math.sqrt(var_p/count_doc + var_p/count_ther)\n",
        "confidence_interval = ((mean_ther-mean_doc) - margin_of_error, (mean_ther-mean_doc) + margin_of_error)\n",
        "\n",
        "print(f'We are {confidence_level} sure, that the difference between results of thereapists and doctors\\\n",
        " falls into interval {confidence_interval}')"
      ],
      "metadata": {
        "colab": {
          "base_uri": "https://localhost:8080/"
        },
        "id": "-V6g0LZniAUq",
        "outputId": "df44aa1e-e6ef-4286-abbc-918d0eb155b2"
      },
      "execution_count": 6,
      "outputs": [
        {
          "output_type": "stream",
          "name": "stdout",
          "text": [
            "T-critical = 1.9821734832574511\n",
            "We are 0.95 sure, that the difference between results of thereapists and doctors falls into interval (5.534955789773421, 13.409659265774962)\n"
          ]
        }
      ]
    },
    {
      "cell_type": "code",
      "source": [],
      "metadata": {
        "id": "ViLkRmatiBvR"
      },
      "execution_count": null,
      "outputs": []
    }
  ]
}